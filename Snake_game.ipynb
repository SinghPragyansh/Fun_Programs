{
 "cells": [
  {
   "cell_type": "code",
   "execution_count": 1,
   "id": "c47e7ac7",
   "metadata": {},
   "outputs": [],
   "source": [
    "from tkinter import *\n",
    "import random"
   ]
  },
  {
   "cell_type": "code",
   "execution_count": 2,
   "id": "e323eed3",
   "metadata": {},
   "outputs": [],
   "source": [
    "# constants that need not be changed\n",
    "GAME_WIDTH = 700\n",
    "GAME_HEIGHT = 700\n",
    "SPEED = 100\n",
    "SPACE_SIZE = 50\n",
    "BODY_PARTS = 3\n",
    "SNAKE_COLOR = \"#00FF00\" \n",
    "FOOD_COLOR = \"#FF0000\"\n",
    "BACKGROUND_COLOR = \"#000000\""
   ]
  },
  {
   "cell_type": "code",
   "execution_count": 3,
   "id": "7040645d",
   "metadata": {},
   "outputs": [],
   "source": [
    "class Snake:\n",
    "    \n",
    "    def __init__(self):\n",
    "        self.body_size = BODY_PARTS\n",
    "        self.coordinates = []\n",
    "        self.squares = []\n",
    "        \n",
    "        for i in range(0, BODY_PARTS):\n",
    "            self.coordinates.append([0,0])\n",
    "            \n",
    "        for x, y in self.coordinates:\n",
    "            square = canvas.create_rectangle(x, y, x + SPACE_SIZE, y + SPACE_SIZE, fill=SNAKE_COLOR, tag=\"snake\") \n",
    "            self.squares.append(square)\n",
    "            "
   ]
  },
  {
   "cell_type": "code",
   "execution_count": 4,
   "id": "ca3107cf",
   "metadata": {},
   "outputs": [],
   "source": [
    "class Food:\n",
    "    \n",
    "    def __init__(self):\n",
    "        \n",
    "        x = random.randint(0, (GAME_WIDTH/SPACE_SIZE) -1) * SPACE_SIZE            # position of food appearing\n",
    "        # x axis: 700 / space_size(50) = 14 possible positions\n",
    "        # y axis: also 14\n",
    "        y = random.randint(0, (GAME_HEIGHT/SPACE_SIZE) -1) * SPACE_SIZE\n",
    "        \n",
    "        self.coordinates = [x,y]\n",
    "        \n",
    "        canvas.create_oval(x, y, x + SPACE_SIZE, y + SPACE_SIZE, fill = FOOD_COLOR, tag = \"food\")"
   ]
  },
  {
   "cell_type": "code",
   "execution_count": 5,
   "id": "1520a4a4",
   "metadata": {},
   "outputs": [],
   "source": [
    "def next_turn(snake, food):\n",
    "    \n",
    "    x, y = snake.coordinates[0]\n",
    "    \n",
    "    if direction == \"up\":\n",
    "        y = y- SPACE_SIZE\n",
    "    elif direction == \"down\":\n",
    "        y += SPACE_SIZE\n",
    "    elif direction == \"left\":\n",
    "        x -= SPACE_SIZE\n",
    "    elif direction == \"right\":\n",
    "        z += SPACE_SIZE\n",
    "        \n",
    "    snake.coordinates.insert(0,(x,y))\n",
    "    \n",
    "    square = canvas.create_rectangle(x, y, x+SPACE_SIZE, y+SPACE_SIZE, fill = SNAKE_COLOR)\n",
    "    \n",
    "    snake.squares.insert(0, square)\n",
    "    \n",
    "    if x == food.coordinates[0] and y == food.coordinates[1]:\n",
    "        global score\n",
    "        \n",
    "        score += 1\n",
    "        \n",
    "        label.config(text = \"Score:{}\".format(socre))\n",
    "        \n",
    "        canvas.delete(\"food\")\n",
    "        \n",
    "        food = Food()\n",
    "        \n",
    "    else:\n",
    "        del snake.coordinates[-1]\n",
    "    \n",
    "        canvas.delete(snake.squares[-1])\n",
    "    \n",
    "        del snake.squares[-1]\n",
    "        \n",
    "    if check_collision(snake):\n",
    "        game_over()\n",
    "    else:\n",
    "        window.after(SPEED, next_turn , snake, food)"
   ]
  },
  {
   "cell_type": "code",
   "execution_count": 6,
   "id": "50b558c5",
   "metadata": {},
   "outputs": [],
   "source": [
    "def change_direction(new_direction):\n",
    "    \n",
    "    global direction\n",
    "    \n",
    "    if new_direction == 'left':\n",
    "        if direction != 'right':\n",
    "            direction = new_direction\n",
    "            \n",
    "    elif new_direction == 'right':\n",
    "        if direction != 'left':\n",
    "            direction = new_direction\n",
    "            \n",
    "    elif new_direction == 'up':\n",
    "        if direction != 'down':\n",
    "            direction = new_direction\n",
    "            \n",
    "    elif new_direction == 'down':\n",
    "        if direction != 'up':\n",
    "            direction = new_direction"
   ]
  },
  {
   "cell_type": "code",
   "execution_count": 7,
   "id": "fee43cee",
   "metadata": {},
   "outputs": [],
   "source": [
    "def check_collision(snake):\n",
    "    x, y = snake.coordinates[0]\n",
    "    \n",
    "    if x < 0 or x >= GAME_WIDTH:\n",
    "        print(\"GAME OVER\")\n",
    "        return True\n",
    "    \n",
    "    elif y < 0 or y >= GAME_HEIGHT:\n",
    "        print(\"GAME OVER\")\n",
    "        return True\n",
    "    \n",
    "    for body_part in snake.coordinates[1:]:\n",
    "        if x == body_part[0] and y == body_part[1]:\n",
    "            print(\"GAME OVER\")\n",
    "            return True\n",
    "        \n",
    "    return False"
   ]
  },
  {
   "cell_type": "code",
   "execution_count": 8,
   "id": "bed0bfdd",
   "metadata": {},
   "outputs": [],
   "source": [
    "def game_over():\n",
    "    canvas.delete(ALL)\n",
    "    canvas.create_text(canvas.winfo_width()/2, canvas.winfo_height()/2, font = ('consolas', 70),\n",
    "                       text = \"GAME OVER\", fill = \"red\", tag = \"game over\")"
   ]
  },
  {
   "cell_type": "code",
   "execution_count": 9,
   "id": "d91b9377",
   "metadata": {},
   "outputs": [
    {
     "data": {
      "text/plain": [
       "''"
      ]
     },
     "execution_count": 9,
     "metadata": {},
     "output_type": "execute_result"
    }
   ],
   "source": [
    "window = Tk()\n",
    "window.title(\"Snake game\")\n",
    "window.resizable(False, False)   # can not be resized"
   ]
  },
  {
   "cell_type": "code",
   "execution_count": 10,
   "id": "00646ce1",
   "metadata": {},
   "outputs": [],
   "source": [
    "score = 0\n",
    "direction = 'down'\n",
    "label = Label(window, text = \"Score:{}\".format(score), font = ('consolas', 40))\n",
    "label.pack()"
   ]
  },
  {
   "cell_type": "code",
   "execution_count": 11,
   "id": "e4653836",
   "metadata": {},
   "outputs": [],
   "source": [
    "canvas = Canvas(window, bg = BACKGROUND_COLOR, height = GAME_HEIGHT, width = GAME_WIDTH)\n",
    "canvas.pack()"
   ]
  },
  {
   "cell_type": "code",
   "execution_count": 12,
   "id": "be174621",
   "metadata": {},
   "outputs": [],
   "source": [
    "window.update()"
   ]
  },
  {
   "cell_type": "code",
   "execution_count": 13,
   "id": "d677cdc1",
   "metadata": {},
   "outputs": [],
   "source": [
    "window_width = window.winfo_width()\n",
    "window_height = window.winfo_height()\n",
    "screen_width = window.winfo_screenwidth()\n",
    "screen_height = window.winfo_screenheight()"
   ]
  },
  {
   "cell_type": "code",
   "execution_count": 14,
   "id": "7d5c8cfa",
   "metadata": {},
   "outputs": [],
   "source": [
    "x = int((screen_width/2) - (window_width/2))\n",
    "y = int((screen_height/2) - (window_height/2))"
   ]
  },
  {
   "cell_type": "code",
   "execution_count": 15,
   "id": "9ce105e1",
   "metadata": {},
   "outputs": [
    {
     "data": {
      "text/plain": [
       "'140650186539712<lambda>'"
      ]
     },
     "execution_count": 15,
     "metadata": {},
     "output_type": "execute_result"
    }
   ],
   "source": [
    "window.geometry(f'{window_width}x{window_height}+{x}+{y}')\n",
    "\n",
    "window.bind(\"<Left>\", lambda event: change_direction('left'))\n",
    "window.bind(\"<Right>\", lambda event: change_direction('right'))\n",
    "window.bind(\"<Up>\", lambda event: change_direction('up'))\n",
    "window.bind(\"<Down>\", lambda event: change_direction('down'))"
   ]
  },
  {
   "cell_type": "code",
   "execution_count": 16,
   "id": "e3cf90c3",
   "metadata": {},
   "outputs": [],
   "source": [
    "snake = Snake()\n",
    "food = Food()"
   ]
  },
  {
   "cell_type": "code",
   "execution_count": 17,
   "id": "b94d2f3d",
   "metadata": {},
   "outputs": [],
   "source": [
    "next_turn(snake, food)"
   ]
  },
  {
   "cell_type": "code",
   "execution_count": 18,
   "id": "f1c54f92",
   "metadata": {
    "scrolled": true
   },
   "outputs": [
    {
     "name": "stdout",
     "output_type": "stream",
     "text": [
      "GAME OVER\n"
     ]
    }
   ],
   "source": [
    "window.mainloop()"
   ]
  },
  {
   "cell_type": "code",
   "execution_count": null,
   "id": "da2a2384",
   "metadata": {},
   "outputs": [],
   "source": []
  },
  {
   "cell_type": "code",
   "execution_count": null,
   "id": "25f92fd8",
   "metadata": {},
   "outputs": [],
   "source": []
  }
 ],
 "metadata": {
  "kernelspec": {
   "display_name": "Python 3",
   "language": "python",
   "name": "python3"
  },
  "language_info": {
   "codemirror_mode": {
    "name": "ipython",
    "version": 3
   },
   "file_extension": ".py",
   "mimetype": "text/x-python",
   "name": "python",
   "nbconvert_exporter": "python",
   "pygments_lexer": "ipython3",
   "version": "3.8.8"
  }
 },
 "nbformat": 4,
 "nbformat_minor": 5
}
