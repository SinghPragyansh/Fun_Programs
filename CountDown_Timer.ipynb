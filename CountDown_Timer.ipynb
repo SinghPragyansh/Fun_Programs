{
 "cells": [
  {
   "cell_type": "code",
   "execution_count": 1,
   "id": "c5f89884",
   "metadata": {},
   "outputs": [],
   "source": [
    "import time"
   ]
  },
  {
   "cell_type": "code",
   "execution_count": 5,
   "id": "2a3d5063",
   "metadata": {},
   "outputs": [
    {
     "name": "stdout",
     "output_type": "stream",
     "text": [
      "Enter the time in seconds: 5\n",
      "00:00:05\n",
      "00:00:04\n",
      "00:00:03\n",
      "00:00:02\n",
      "00:00:01\n",
      "Congrats, YOU MADE IT !!\n"
     ]
    }
   ],
   "source": [
    "my_time = int(input(\"Enter the time in seconds: \"))\n",
    "\n",
    "for i in range(my_time, 0, -1):\n",
    "    seconds = i % 60    # remainder\n",
    "    minutes  = int(i/60)\n",
    "    hours = int(i/3600)\n",
    "    print(f\"{hours:02}:{minutes:02}:{seconds:02}\")\n",
    "    time.sleep(1)\n",
    "    \n",
    "print(\"Congrats, YOU MADE IT !!\")"
   ]
  },
  {
   "cell_type": "code",
   "execution_count": null,
   "id": "0469d7d6",
   "metadata": {},
   "outputs": [],
   "source": []
  }
 ],
 "metadata": {
  "kernelspec": {
   "display_name": "Python 3",
   "language": "python",
   "name": "python3"
  },
  "language_info": {
   "codemirror_mode": {
    "name": "ipython",
    "version": 3
   },
   "file_extension": ".py",
   "mimetype": "text/x-python",
   "name": "python",
   "nbconvert_exporter": "python",
   "pygments_lexer": "ipython3",
   "version": "3.8.8"
  }
 },
 "nbformat": 4,
 "nbformat_minor": 5
}
